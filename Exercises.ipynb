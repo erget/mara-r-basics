{
 "cells": [
  {
   "cell_type": "markdown",
   "metadata": {},
   "source": [
    "# R Basics - Statistical Data Analysis\n",
    "\n",
    "by Dr. Matthias Duschl & Dr. Daniel Lee, 2025\n",
    "\n",
    "## Solutions for the exercises"
   ]
  },
  {
   "cell_type": "code",
   "execution_count": null,
   "metadata": {},
   "outputs": [],
   "source": [
    "aphasiker <- read.table(\"data/Aphasiker.csv\", sep = \";\", dec = \",\", header = TRUE, encoding = \"UTF-8\")\n",
    "claims <- read.table(\"data/Auto_Insurance_Claims_Sample.csv\", sep = \",\", header = T)"
   ]
  },
  {
   "cell_type": "markdown",
   "metadata": {},
   "source": [
    "## Exercise 1: examine the Aphasiker data set\n",
    "\n",
    "Learn about the data by applying the functions below to the Aphasiker data."
   ]
  },
  {
   "cell_type": "code",
   "execution_count": null,
   "metadata": {
    "scrolled": true
   },
   "outputs": [],
   "source": [
    "aphasiker"
   ]
  },
  {
   "cell_type": "code",
   "execution_count": null,
   "metadata": {},
   "outputs": [],
   "source": [
    "head(aphasiker)"
   ]
  },
  {
   "cell_type": "code",
   "execution_count": null,
   "metadata": {},
   "outputs": [],
   "source": [
    "tail(aphasiker)"
   ]
  },
  {
   "cell_type": "code",
   "execution_count": null,
   "metadata": {},
   "outputs": [],
   "source": [
    "nrow(aphasiker)"
   ]
  },
  {
   "cell_type": "code",
   "execution_count": null,
   "metadata": {},
   "outputs": [],
   "source": [
    "colnames(aphasiker)"
   ]
  },
  {
   "cell_type": "code",
   "execution_count": null,
   "metadata": {},
   "outputs": [],
   "source": [
    "summary(aphasiker)"
   ]
  },
  {
   "cell_type": "code",
   "execution_count": null,
   "metadata": {},
   "outputs": [],
   "source": [
    "str(aphasiker)"
   ]
  },
  {
   "cell_type": "markdown",
   "metadata": {},
   "source": [
    "## Exercise 2: data types\n",
    "Enter some values with different types into your R terminal."
   ]
  },
  {
   "cell_type": "code",
   "execution_count": null,
   "metadata": {},
   "outputs": [],
   "source": [
    "42\n",
    "-5.37\n",
    "5.2e6\n",
    "\"foobar\"\n",
    "\"here's some more character data\"\n",
    "TRUE\n",
    "FALSE"
   ]
  },
  {
   "cell_type": "markdown",
   "metadata": {},
   "source": [
    "Assign these values to variable names so that you can reuse them."
   ]
  },
  {
   "cell_type": "code",
   "execution_count": null,
   "metadata": {},
   "outputs": [],
   "source": [
    "my.number <- 25\n",
    "my.characters <- \"Wir schaffen das!\"\n",
    "my.truth <- FALSE\n",
    "my.number\n",
    "my.characters\n",
    "my.truth"
   ]
  },
  {
   "cell_type": "markdown",
   "metadata": {},
   "source": [
    "Try different mathematical operations with data of different types.\n",
    "What happens?"
   ]
  },
  {
   "cell_type": "code",
   "execution_count": null,
   "metadata": {},
   "outputs": [],
   "source": [
    "25 + 42\n",
    "25 / 42\n",
    "25 ^ 42"
   ]
  },
  {
   "cell_type": "code",
   "execution_count": null,
   "metadata": {},
   "outputs": [],
   "source": [
    "\"Wir\" + \"schaffen\""
   ]
  },
  {
   "cell_type": "code",
   "execution_count": null,
   "metadata": {},
   "outputs": [],
   "source": [
    "TRUE + TRUE\n",
    "TRUE + FALSE\n",
    "TRUE - FALSE\n",
    "FALSE * FALSE"
   ]
  },
  {
   "cell_type": "code",
   "execution_count": null,
   "metadata": {},
   "outputs": [],
   "source": [
    "25 + TRUE\n",
    "25 - FALSE"
   ]
  },
  {
   "cell_type": "markdown",
   "metadata": {},
   "source": [
    "Inspect the type of your variables with the ``class`` and ``str`` functions.\n",
    "Note that this function can be really useful when you have a variable that you receive e.g. from a function you didn't write yourself.\n",
    "It lets you find out what type the returned data has."
   ]
  },
  {
   "cell_type": "code",
   "execution_count": null,
   "metadata": {},
   "outputs": [],
   "source": [
    "str(my.number)\n",
    "class(my.number)\n",
    "str(my.characters)\n",
    "class(my.characters)\n",
    "str(my.truth)\n",
    "class(my.truth)"
   ]
  },
  {
   "cell_type": "markdown",
   "metadata": {},
   "source": [
    "## Exercise 3: vectors\n",
    "Create a numeric, character, and boolean vector. Each should be 5 elements long."
   ]
  },
  {
   "cell_type": "code",
   "execution_count": null,
   "metadata": {},
   "outputs": [],
   "source": [
    "c(1, 2, 3, 4, 5)\n",
    "c(\"these\", \"are\", \"exactly\", \"five\", \"words\")\n",
    "c(T, T, F, F, T)"
   ]
  },
  {
   "cell_type": "markdown",
   "metadata": {},
   "source": [
    "Save those vectors to variables."
   ]
  },
  {
   "cell_type": "code",
   "execution_count": null,
   "metadata": {},
   "outputs": [],
   "source": [
    "n.vector <- c(1, 2, 3, 4, 5)\n",
    "c.vector <- c(\"these\", \"are\", \"exactly\", \"five\", \"words\")\n",
    "b.vector <- c(T, T, F, F, T)"
   ]
  },
  {
   "cell_type": "markdown",
   "metadata": {},
   "source": [
    "Concatenate vectors with each other.\n",
    "Remember, vectors can be concatenated as long as it is possible to \"promote\" their values to a common data type."
   ]
  },
  {
   "cell_type": "code",
   "execution_count": null,
   "metadata": {},
   "outputs": [],
   "source": [
    "c(n.vector, n.vector)\n",
    "c(n.vector, 5, 6)\n",
    "c(n.vector, c(5, 6))\n",
    "c(n.vector, c.vector)\n",
    "c(c.vector, b.vector)\n",
    "c(n.vector, c.vector, b.vector)"
   ]
  },
  {
   "cell_type": "markdown",
   "metadata": {},
   "source": [
    "Using your new vectors, do the following:\n",
    "- Extract the 3rd and 2nd from last elements\n",
    "- Extract the first 2 elements using\n",
    "  - Indexing\n",
    "  - A boolean vector\n",
    "- Experiment with boolean vectors as selectors"
   ]
  },
  {
   "cell_type": "code",
   "execution_count": null,
   "metadata": {},
   "outputs": [],
   "source": [
    "n.vector[3]\n",
    "n.vector[-2]\n",
    "n.vector[1:2]\n",
    "n.vector[c(T, T, F, F, F)]\n",
    "n.vector[b.vector]"
   ]
  },
  {
   "cell_type": "markdown",
   "metadata": {},
   "source": [
    "Note how all operations are \"vectorised\" - they're applied element for element within the vector.\n",
    "Try:\n",
    "- Computing 2 vectors together\n",
    "- \"Recycling\" a vector with length 1 against a longer vector\n",
    "- Computing 2 vectors with incompatible lengths"
   ]
  },
  {
   "cell_type": "code",
   "execution_count": null,
   "metadata": {},
   "outputs": [],
   "source": [
    "n.vector + b.vector\n",
    "n.vector + 200\n",
    "n.vector + 1:2"
   ]
  },
  {
   "cell_type": "markdown",
   "metadata": {},
   "source": [
    "## Exercise 4: functions\n",
    "- Use the ``max`` and ``mean`` functions on some vectors that you create\n",
    "- Read the help for ``max``. Can you understand how to use it? How would you cite this function in a paper if you were so inclined?\n",
    "- Find out what the ``pmax`` function does"
   ]
  },
  {
   "cell_type": "code",
   "execution_count": null,
   "metadata": {},
   "outputs": [],
   "source": [
    "max(100:1)\n",
    "min(100:1)\n",
    "?max"
   ]
  },
  {
   "cell_type": "markdown",
   "metadata": {},
   "source": [
    "## Exercise 5: NAs\n",
    "- Make a vector that contains ``NA`` values and see how it performs with different operations and functions\n",
    "- Filter ``NA``s out of a vector\n",
    "- Use the ``na.rm = TRUE`` argument to ignore ``NA``s in a function"
   ]
  },
  {
   "cell_type": "code",
   "execution_count": null,
   "metadata": {},
   "outputs": [],
   "source": [
    "na.vector <- 1:10\n",
    "na.vector[5] <- NA\n",
    "na.vector"
   ]
  },
  {
   "cell_type": "code",
   "execution_count": null,
   "metadata": {},
   "outputs": [],
   "source": [
    "na.vector + 1"
   ]
  },
  {
   "cell_type": "code",
   "execution_count": null,
   "metadata": {},
   "outputs": [],
   "source": [
    "na.vector * 2"
   ]
  },
  {
   "cell_type": "code",
   "execution_count": null,
   "metadata": {},
   "outputs": [],
   "source": [
    "mean(na.vector)"
   ]
  },
  {
   "cell_type": "code",
   "execution_count": null,
   "metadata": {},
   "outputs": [],
   "source": [
    "min(na.vector)"
   ]
  },
  {
   "cell_type": "code",
   "execution_count": null,
   "metadata": {},
   "outputs": [],
   "source": [
    "is.na(na.vector)  # Find NAs in vector"
   ]
  },
  {
   "cell_type": "code",
   "execution_count": null,
   "metadata": {},
   "outputs": [],
   "source": [
    "na.vector[!is.na(na.vector)]  # ! negates a boolean vector"
   ]
  },
  {
   "cell_type": "code",
   "execution_count": null,
   "metadata": {},
   "outputs": [],
   "source": [
    "mean(na.vector, na.rm = TRUE)"
   ]
  },
  {
   "cell_type": "markdown",
   "metadata": {},
   "source": [
    "## Exercise 6: sorting and filtering\n",
    "- Read the help for the `sort` function. How would use the `na.last` argument?\n",
    "- Sort the vectors you have created using different arguments"
   ]
  },
  {
   "cell_type": "code",
   "execution_count": null,
   "metadata": {},
   "outputs": [],
   "source": [
    "sort(n.vector)\n",
    "sort(c.vector, decreasing = T)\n",
    "sort(b.vector)\n",
    "sort(na.vector)\n",
    "sort(na.vector, na.last = TRUE)\n",
    "sort(na.vector, na.last = F)"
   ]
  },
  {
   "cell_type": "markdown",
   "metadata": {},
   "source": [
    "Remove all the numbers out of `n.vector` that are both odd **and** are less than 4.\n",
    "\n",
    "- Filter it using\n",
    "  - Boolean expressions\n",
    "  - Vectors\n",
    "  - Bitwise combinations"
   ]
  },
  {
   "cell_type": "code",
   "execution_count": null,
   "metadata": {},
   "outputs": [],
   "source": [
    "n.vector\n",
    "filter.vector <- as.logical(!n.vector %% 2)  # Filter odds\n",
    "filter.vector[n.vector >= 4] <- T  # Keep >= 4\n",
    "n.vector[filter.vector]  # Did the filter work?\n",
    "# Modify original vector (actually you should make a new one)\n",
    "n.vector <- n.vector[filter.vector]\n",
    "n.vector"
   ]
  },
  {
   "cell_type": "markdown",
   "metadata": {},
   "source": [
    "Filter out all words from `c.vector` that start with letters after \"l\" in the alphabet.\n",
    "How many of those words are there?"
   ]
  },
  {
   "cell_type": "code",
   "execution_count": null,
   "metadata": {},
   "outputs": [],
   "source": [
    "filtered.words <- c.vector[c.vector < \"l\"]\n",
    "filtered.words\n",
    "length(filtered.words)"
   ]
  },
  {
   "cell_type": "markdown",
   "metadata": {},
   "source": [
    "## Exercise 7: working with random numbers\n",
    "\n",
    "* Generate a sample of 100 normally distributed numbers centered at 0 with a standard deviance of 200.\n",
    "* What's their standard deviance? Is it really what you specified?\n",
    "* What's their variance?\n",
    "* Sort them in ascending order.\n",
    "* Sort them in descending order.\n",
    "* Filter out negative values.\n",
    "* Do the exercises again for a series of exponentially distributed values, this time filtering for values under 1."
   ]
  },
  {
   "cell_type": "code",
   "execution_count": null,
   "metadata": {},
   "outputs": [],
   "source": [
    "series <- rnorm(100, sd = 200)"
   ]
  },
  {
   "cell_type": "code",
   "execution_count": null,
   "metadata": {},
   "outputs": [],
   "source": [
    "sd(series)"
   ]
  },
  {
   "cell_type": "code",
   "execution_count": null,
   "metadata": {},
   "outputs": [],
   "source": [
    "var(series)"
   ]
  },
  {
   "cell_type": "code",
   "execution_count": null,
   "metadata": {},
   "outputs": [],
   "source": [
    "sort(series)"
   ]
  },
  {
   "cell_type": "code",
   "execution_count": null,
   "metadata": {},
   "outputs": [],
   "source": [
    "sort(series, decreasing = TRUE)"
   ]
  },
  {
   "cell_type": "code",
   "execution_count": null,
   "metadata": {},
   "outputs": [],
   "source": [
    "series[series > 0]"
   ]
  },
  {
   "cell_type": "code",
   "execution_count": null,
   "metadata": {},
   "outputs": [],
   "source": [
    "series <- rexp(100)\n",
    "sd(series)\n",
    "var(series)\n",
    "sort(series)\n",
    "sort(series, decreasing = TRUE)\n",
    "series[series > 1]"
   ]
  },
  {
   "cell_type": "markdown",
   "metadata": {},
   "source": [
    "## Exercise 8: working with data.frames\n",
    "\n",
    "Answer the following questions using the aphasiker data:\n",
    "* How many patients are in the data?\n",
    "* What is the average age of the patients?\n",
    "* How many women are among the patients? (Make a frequency table)\n",
    "\n",
    "Answer the following questions using the claims file:\n",
    "* What is the mean, median, minimum and maximum of the Total Claim Amount?\n",
    "* What is the average Total Claim Amount for highly-qualified (Doctor and Master) versus the other insured?"
   ]
  },
  {
   "cell_type": "code",
   "execution_count": null,
   "metadata": {},
   "outputs": [],
   "source": [
    "nrow(aphasiker)  # Number of rows in the table = number of patients\n",
    "length(aphasiker$Patienten_ID)  # Length of one variable = number of patients\n",
    "mean(aphasiker$Alter)\n",
    "table(aphasiker$Geschlecht) "
   ]
  },
  {
   "cell_type": "code",
   "execution_count": null,
   "metadata": {},
   "outputs": [],
   "source": [
    "mean(claims$Total.Claim.Amount)\n",
    "median(claims$Total.Claim.Amount)\n",
    "min(claims$Total.Claim.Amount)\n",
    "max(claims$Total.Claim.Amount)"
   ]
  },
  {
   "cell_type": "code",
   "execution_count": null,
   "metadata": {},
   "outputs": [],
   "source": [
    "summary(claims$Total.Claim.Amount)"
   ]
  },
  {
   "cell_type": "code",
   "execution_count": null,
   "metadata": {},
   "outputs": [],
   "source": [
    "claims$high.qualified <- FALSE\n",
    "claims[claims$Education == \"Doctor\" | claims$Education == \"Master\", ]$high.qualified <- TRUE\n",
    "mean(claims[claims$high.qualified == TRUE, ]$Total.Claim.Amount)\n",
    "mean(claims[claims$high.qualified == FALSE, ]$Total.Claim.Amount)"
   ]
  },
  {
   "cell_type": "markdown",
   "metadata": {},
   "source": [
    "## Exercise 9: Visualize it!\n",
    "Use the claims data and explore the distribution of the variables visually. For instance,\n",
    "* create a histogram for show the Income distribution of the customers. Are there values you might want to filter out? \n",
    "* a barplot for state, education or claim reason. For this, you need to count the frequencies first using ``table()``.\n",
    "\n",
    "Try to customize your plots using colors and axes labels. "
   ]
  },
  {
   "cell_type": "code",
   "execution_count": null,
   "metadata": {},
   "outputs": [],
   "source": [
    "hist(claims$Income)\n",
    "hist(claims[claims$Income>0,]$Income, main=\"Income Distribution\", xlab=\"Income\")"
   ]
  },
  {
   "cell_type": "code",
   "execution_count": null,
   "metadata": {},
   "outputs": [],
   "source": [
    "barplot(table(claims$State))\n",
    "barplot(table(claims$Education))\n",
    "barplot(table(claims$Claim.Reason))"
   ]
  },
  {
   "cell_type": "markdown",
   "metadata": {},
   "source": [
    "## Exercise 10: Regression lines\n",
    "Use the claims data and visualize the relationship between \"Claims Amount\" and \"Total Claims Amount\". \n",
    "\n",
    "Try to customize your scatterplot:\n",
    "* Choose a color for the dots and a different symbol with the parameter ``pch``\n",
    "* Control the size of the symbols (``?par`` shows you an overview on all graphical parameters)\n",
    "* Add a linear regression line using ``abline()`` and the coefficients from a linear model ``lm()``: ``abline(lm(var1 ~ var2))``\n",
    "\n",
    "Which one is the dependent variable in the model?"
   ]
  },
  {
   "cell_type": "code",
   "execution_count": null,
   "metadata": {},
   "outputs": [],
   "source": [
    "plot(claims$Total.Claim.Amount, claims$Claim.Amount,\n",
    "     pch=19, col = \"darkgrey\", cex=0.5,\n",
    "     xlab=\"Total Claim Amount\",\n",
    "     ylab=\"Claim Amount\")\n",
    "abline(lm(claims$Claim.Amount ~ claims$Total.Claim.Amount), col=\"red\")"
   ]
  },
  {
   "cell_type": "markdown",
   "metadata": {},
   "source": [
    "## Exercise 11: statistical testing\n",
    "\n",
    "Test the following null-hypotheses:\n",
    "* The gender distribution of this R course today is random\n",
    "* The claims amount (from the claims data set) is normally distributed\n",
    "* The claims amount (from the claims data set) is exponentially distributed. The rate/lambda of an exponential distribution is defined as 1/expected value\n",
    "* There is no difference in the average claim amount between employed and unemployed (from variable employment status). Can the t-test be used? If not, use the non-parametric alternative ``wilcox.test()``"
   ]
  },
  {
   "cell_type": "code",
   "execution_count": null,
   "metadata": {},
   "outputs": [],
   "source": [
    "hist(claims$Claim.Amount)\n",
    "mean(claims$Claim.Amount)\n",
    "hist(rexp(10000, rate=1/mean(claims$Claim.Amount)))\n",
    "ks.test(claims$Claim.Amount, \"pexp\", rate=1/mean(claims$Claim.Amount))"
   ]
  },
  {
   "cell_type": "code",
   "execution_count": null,
   "metadata": {},
   "outputs": [],
   "source": [
    "table(claims$EmploymentStatus)\n",
    "claims_amount_employed <- claims[claims$EmploymentStatus == \"Employed\", ]$Claim.Amount\n",
    "claims_amount_unemployed <- claims[claims$EmploymentStatus == \"Unemployed\", ]$Claim.Amount\n",
    "t.test(claims_amount_employed, claims_amount_unemployed)\n",
    "wilcox.test(claims_amount_employed, claims_amount_unemployed)"
   ]
  },
  {
   "cell_type": "markdown",
   "metadata": {},
   "source": [
    "## Exercise 12: data manipulation\n",
    "\n",
    "Get all claims with open complaints and sort by claim amount (descending). Try with and without the pipe operator ``|>``."
   ]
  },
  {
   "cell_type": "code",
   "execution_count": null,
   "metadata": {},
   "outputs": [],
   "source": [
    "library(dplyr)"
   ]
  },
  {
   "cell_type": "code",
   "execution_count": null,
   "metadata": {},
   "outputs": [],
   "source": [
    "arrange(filter(select(claims, \n",
    "                      Customer,\n",
    "                      Claim.Amount,\n",
    "                      Number.of.Open.Complaints), \n",
    "               Number.of.Open.Complaints >= 1), \n",
    "        -Claim.Amount)"
   ]
  },
  {
   "cell_type": "code",
   "execution_count": null,
   "metadata": {},
   "outputs": [],
   "source": [
    "claims |>\n",
    "    select(Customer, Claim.Amount, Number.of.Open.Complaints) |>\n",
    "    filter(Number.of.Open.Complaints >= 1) |>\n",
    "    arrange(-Claim.Amount)"
   ]
  },
  {
   "cell_type": "markdown",
   "metadata": {},
   "source": [
    "## Exercise 13: correlation analyses\n",
    "\n",
    "Are there any correlations between Claim Amount and Total Claim Amount / Months Since Policy Inception / Income?\n",
    "Please use the appropriate statistical correlation tests. "
   ]
  },
  {
   "cell_type": "code",
   "execution_count": null,
   "metadata": {},
   "outputs": [],
   "source": [
    "cor.test(claims$Claim.Amount, claims$Total.Claim.Amount, method=\"spearman\")\n",
    "cor.test(claims$Claim.Amount, claims$Months.Since.Policy.Inception, method=\"spearman\")\n",
    "cor.test(claims$Claim.Amount, claims$Income, method=\"spearman\")"
   ]
  },
  {
   "cell_type": "code",
   "execution_count": null,
   "metadata": {},
   "outputs": [],
   "source": [
    "cor(claims[, c(5, 12, 17)], method = \"spearman\")"
   ]
  },
  {
   "cell_type": "markdown",
   "metadata": {},
   "source": [
    "## Exercise 14: discover advanced statistical modelling methods in R\n",
    "\n",
    "Depending on your interest, do one or more of these exercises.\n",
    "\n",
    "1. Improve the model for predicting the claim amount (e.g. by introducing new co-variates).\n",
    "2. Read more on ANOVA in R:\n",
    "  - [Data Camp tutorial on ANOVA](https://www.statmethods.net/stats/anova.html) \n",
    "  - [Tutorial for one-way ANOVA](http://www.sthda.com/english/wiki/one-way-anova-test-in-r)\n",
    "  - [Tutorial for two-way ANOVA](http://www.sthda.com/english/wiki/two-way-anova-test-in-r)\n",
    "  - [ANOVA with package car (in German)](https://statistikguru.de/r/r-anova-ancova-manova.html)\n",
    "3. Go to the [CRAN Task Views](http://cran.r-project.org/web/views/) and find a package containing your advanced method. Open their reference manuals and (if available) their vignettes. For instance, you could try to run a Neuronal Net with the package ``nnet`` by opening the help with ``?nnet`` and reproducing the given example?"
   ]
  },
  {
   "cell_type": "markdown",
   "metadata": {},
   "source": [
    "###### Exercise 17: create your first ``ggplot``\n",
    "\n",
    "Consult the [ggplot2 references](https://ggplot2.tidyverse.org/reference/index.html) for inspiration and guidance."
   ]
  },
  {
   "cell_type": "markdown",
   "metadata": {},
   "source": [
    "## Exercise 15: working with `apply()`\n",
    "- Create a copy of `aphasiker` with only numeric columns\n",
    "- Find the minimum, maximum and standard deviance of each column"
   ]
  },
  {
   "cell_type": "code",
   "execution_count": null,
   "metadata": {},
   "outputs": [],
   "source": [
    "numeric.aphasiker <- aphasiker[, c(3,4, 6:14)]\n",
    "apply(numeric.aphasiker, 2, min, na.rm = T)\n",
    "apply(numeric.aphasiker, 2, max, na.rm = T)\n",
    "apply(numeric.aphasiker, 2, sd, na.rm = T)"
   ]
  },
  {
   "cell_type": "markdown",
   "metadata": {},
   "source": [
    "## Exercise 17: programming in R\n",
    "- Write an if/else clause\n",
    "- Write a for loop\n",
    "- Write a while loop\n",
    "- Write a function that could replace the `mean` function"
   ]
  },
  {
   "cell_type": "code",
   "execution_count": null,
   "metadata": {},
   "outputs": [],
   "source": [
    "# Repeat this with different values for hungry\n",
    "# Also try using conditions that have to be evaluated, like \"n - 4\"\n",
    "hungry <- TRUE\n",
    "if (hungry) {\n",
    "  print(\"I'll cook something.\")\n",
    "  print(\"And then I'll eat it.\")\n",
    "  print(\"Afterwards I need to wash the dishes.\")\n",
    "} else {\n",
    "  print(\"I think I'll go running instead.\")\n",
    "  print(\"Oh, my MP3 player isn't charged.\")\n",
    "  print(\"Maybe I'll just read a book?\")\n",
    "}"
   ]
  },
  {
   "cell_type": "code",
   "execution_count": null,
   "metadata": {},
   "outputs": [],
   "source": [
    "# Each member is assigned to the variable you specify\n",
    "nums <- runif(10, 0, 100)  # 10 random numbers between 0 and 100\n",
    "for (i in nums) {  # Each member of nums is assigned to i for the block's body\n",
    "  print(i)\n",
    "}"
   ]
  },
  {
   "cell_type": "code",
   "execution_count": null,
   "metadata": {},
   "outputs": [],
   "source": [
    "i <- 0\n",
    "while (i < 10) {\n",
    "  print(i)\n",
    "  i <- i + 1\n",
    "}"
   ]
  },
  {
   "cell_type": "code",
   "execution_count": null,
   "metadata": {},
   "outputs": [],
   "source": [
    "mittel <- function(numbers) {\n",
    "  # This returns the mean of the numbers passed to the function.\n",
    "  sum(numbers) / length(numbers)  # The result is returned to the caller\n",
    "}\n",
    "nums <- 1:10  # Generate a series of numbers\n",
    "mean(nums) == mittel(nums)  # Result is true: it worked!"
   ]
  }
 ],
 "metadata": {
  "kernelspec": {
   "display_name": "R",
   "language": "R",
   "name": "ir"
  },
  "language_info": {
   "codemirror_mode": "r",
   "file_extension": ".r",
   "mimetype": "text/x-r-source",
   "name": "R",
   "pygments_lexer": "r",
   "version": "3.6.1"
  }
 },
 "nbformat": 4,
 "nbformat_minor": 4
}
